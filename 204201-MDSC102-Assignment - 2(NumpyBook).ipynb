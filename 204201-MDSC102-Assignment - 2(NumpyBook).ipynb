{
 "cells": [
  {
   "cell_type": "code",
   "execution_count": 1,
   "id": "cd7928ee",
   "metadata": {},
   "outputs": [],
   "source": [
    "import numpy as np"
   ]
  },
  {
   "cell_type": "code",
   "execution_count": 2,
   "id": "d5526169",
   "metadata": {},
   "outputs": [
    {
     "name": "stdout",
     "output_type": "stream",
     "text": [
      "Love [1 2 3]\n"
     ]
    }
   ],
   "source": [
    "#numpy array\n",
    "arr = np.array([1,2,3])\n",
    "print(\"Love\", arr)"
   ]
  },
  {
   "cell_type": "code",
   "execution_count": 3,
   "id": "230b3c9b",
   "metadata": {
    "scrolled": true
   },
   "outputs": [
    {
     "name": "stdout",
     "output_type": "stream",
     "text": [
      "(2, 2)\n"
     ]
    }
   ],
   "source": [
    "#creating 2-d array\n",
    "arr = np.array([[1,2],[2,1]])\n",
    "print(arr.shape)"
   ]
  },
  {
   "cell_type": "code",
   "execution_count": 4,
   "id": "8e84aabb",
   "metadata": {},
   "outputs": [
    {
     "name": "stdout",
     "output_type": "stream",
     "text": [
      "3\n"
     ]
    }
   ],
   "source": [
    "arr = np.array([[[1,2,3,4,5],[3,4,5,6,7],[7,8,9.00,1.345534,4],[2.,4,3,5,6]],[[1,2,3,4,5],[3,4,5,6,7],[7,8,9.00,1.345534,4],[2.,4,3,5,6]]])\n",
    "print(arr.ndim)"
   ]
  },
  {
   "cell_type": "code",
   "execution_count": 5,
   "id": "c03230f5",
   "metadata": {},
   "outputs": [
    {
     "data": {
      "text/plain": [
       "(2, 4, 5)"
      ]
     },
     "execution_count": 5,
     "metadata": {},
     "output_type": "execute_result"
    }
   ],
   "source": [
    "arr.shape"
   ]
  },
  {
   "cell_type": "raw",
   "id": "cae2be92",
   "metadata": {},
   "source": []
  },
  {
   "cell_type": "code",
   "execution_count": 6,
   "id": "946b8652",
   "metadata": {},
   "outputs": [
    {
     "data": {
      "text/plain": [
       "3"
      ]
     },
     "execution_count": 6,
     "metadata": {},
     "output_type": "execute_result"
    }
   ],
   "source": [
    "#indexing multidimensional\n",
    "b = np.array([[0,1],[2,3],[4,5]])\n",
    "b[1][1]"
   ]
  },
  {
   "cell_type": "code",
   "execution_count": 7,
   "id": "9d8fbd26",
   "metadata": {},
   "outputs": [
    {
     "data": {
      "text/plain": [
       "array([[[1.      , 2.      , 3.      , 4.      , 5.      ],\n",
       "        [3.      , 4.      , 5.      , 6.      , 7.      ],\n",
       "        [7.      , 8.      , 9.      , 1.345534, 4.      ],\n",
       "        [2.      , 4.      , 3.      , 5.      , 6.      ]],\n",
       "\n",
       "       [[1.      , 2.      , 3.      , 4.      , 5.      ],\n",
       "        [3.      , 4.      , 5.      , 6.      , 7.      ],\n",
       "        [7.      , 8.      , 9.      , 1.345534, 4.      ],\n",
       "        [2.      , 4.      , 3.      , 5.      , 6.      ]]])"
      ]
     },
     "execution_count": 7,
     "metadata": {},
     "output_type": "execute_result"
    }
   ],
   "source": [
    "arr"
   ]
  },
  {
   "cell_type": "code",
   "execution_count": 8,
   "id": "e6e5cc53",
   "metadata": {},
   "outputs": [
    {
     "data": {
      "text/plain": [
       "3"
      ]
     },
     "execution_count": 8,
     "metadata": {},
     "output_type": "execute_result"
    }
   ],
   "source": [
    "#creating ndim array\n",
    "c = np.array([[[2,3,4],[4,5,6],[7,8,9]],[[1,2,3],[2,3,4],[0,8,9]]])\n",
    "c.ndim"
   ]
  },
  {
   "cell_type": "code",
   "execution_count": 9,
   "id": "3b38611c",
   "metadata": {},
   "outputs": [
    {
     "data": {
      "text/plain": [
       "0"
      ]
     },
     "execution_count": 9,
     "metadata": {},
     "output_type": "execute_result"
    }
   ],
   "source": [
    "c[1][2][0]"
   ]
  },
  {
   "cell_type": "code",
   "execution_count": 10,
   "id": "0d03d0f8",
   "metadata": {},
   "outputs": [
    {
     "data": {
      "text/plain": [
       "array([[[2, 3, 4],\n",
       "        [4, 5, 6],\n",
       "        [7, 8, 9]],\n",
       "\n",
       "       [[1, 2, 3],\n",
       "        [2, 3, 4],\n",
       "        [0, 8, 9]]])"
      ]
     },
     "execution_count": 10,
     "metadata": {},
     "output_type": "execute_result"
    }
   ],
   "source": [
    "c"
   ]
  },
  {
   "cell_type": "code",
   "execution_count": 11,
   "id": "86f6a1eb",
   "metadata": {},
   "outputs": [
    {
     "data": {
      "text/plain": [
       "array([[[ 2,  3,  4],\n",
       "        [ 4,  5,  6],\n",
       "        [ 7,  8,  9]],\n",
       "\n",
       "       [[ 1,  2,  3],\n",
       "        [ 2,  3,  4],\n",
       "        [25,  8,  9]]])"
      ]
     },
     "execution_count": 11,
     "metadata": {},
     "output_type": "execute_result"
    }
   ],
   "source": [
    "#changing the value of some number in matrix\n",
    "c[1][2][0] = 25\n",
    "c"
   ]
  },
  {
   "cell_type": "code",
   "execution_count": 12,
   "id": "ed414069",
   "metadata": {},
   "outputs": [
    {
     "data": {
      "text/plain": [
       "array([0.+0.j, 4.+0.j, 4.+0.j])"
      ]
     },
     "execution_count": 12,
     "metadata": {},
     "output_type": "execute_result"
    }
   ],
   "source": [
    "#mentioning array along with it's datatype\n",
    "np.array([0,4,4], dtype=complex)"
   ]
  },
  {
   "cell_type": "code",
   "execution_count": 13,
   "id": "752fcf69",
   "metadata": {
    "scrolled": true
   },
   "outputs": [
    {
     "data": {
      "text/plain": [
       "array([[0.00e+000, 0.00e+000, 0.00e+000],\n",
       "       [0.00e+000, 0.00e+000, 6.52e-321],\n",
       "       [0.00e+000, 0.00e+000, 0.00e+000]])"
      ]
     },
     "execution_count": 13,
     "metadata": {},
     "output_type": "execute_result"
    }
   ],
   "source": [
    "#for random valuesin matrix \n",
    "np.empty([3,3])"
   ]
  },
  {
   "cell_type": "code",
   "execution_count": 14,
   "id": "51abfffa",
   "metadata": {},
   "outputs": [
    {
     "data": {
      "text/plain": [
       "(2, 2, 3)"
      ]
     },
     "execution_count": 14,
     "metadata": {},
     "output_type": "execute_result"
    }
   ],
   "source": [
    "#creating an np arr with all zeros (dtype is genrally in float)\n",
    "x = np.zeros([2,2,3],dtype=int)\n",
    "x.shape"
   ]
  },
  {
   "cell_type": "code",
   "execution_count": 15,
   "id": "2bcbc8d5",
   "metadata": {},
   "outputs": [
    {
     "data": {
      "text/plain": [
       "array([[[0, 0, 0],\n",
       "        [0, 0, 0]],\n",
       "\n",
       "       [[0, 0, 0],\n",
       "        [0, 0, 0]]])"
      ]
     },
     "execution_count": 15,
     "metadata": {},
     "output_type": "execute_result"
    }
   ],
   "source": [
    "x"
   ]
  },
  {
   "cell_type": "code",
   "execution_count": 16,
   "id": "a35f4ce6",
   "metadata": {},
   "outputs": [
    {
     "data": {
      "text/plain": [
       "array([[[1, 1, 1],\n",
       "        [1, 1, 1]],\n",
       "\n",
       "       [[1, 1, 1],\n",
       "        [1, 1, 1]]])"
      ]
     },
     "execution_count": 16,
     "metadata": {},
     "output_type": "execute_result"
    }
   ],
   "source": [
    "#creating an np arr with all ones (dtype is genrally in float)\n",
    "x = np.ones([2,2,3],dtype=int)\n",
    "x"
   ]
  },
  {
   "cell_type": "code",
   "execution_count": 17,
   "id": "74990129",
   "metadata": {},
   "outputs": [
    {
     "data": {
      "text/plain": [
       "[0, 1, 2, 3, 4, 5, 6, 7]"
      ]
     },
     "execution_count": 17,
     "metadata": {},
     "output_type": "execute_result"
    }
   ],
   "source": [
    "#creating list with given range\n",
    "list(range(8))"
   ]
  },
  {
   "cell_type": "code",
   "execution_count": 18,
   "id": "02af3787",
   "metadata": {},
   "outputs": [
    {
     "data": {
      "text/plain": [
       "array([2. , 2.5, 3. , 3.5, 4. , 4.5, 5. , 5.5])"
      ]
     },
     "execution_count": 18,
     "metadata": {},
     "output_type": "execute_result"
    }
   ],
   "source": [
    "#generate a sequence starting with 2 of width 0.5 and excluding 6\n",
    "np.arange(2,6,.5)"
   ]
  },
  {
   "cell_type": "code",
   "execution_count": 19,
   "id": "37920838",
   "metadata": {},
   "outputs": [
    {
     "data": {
      "text/plain": [
       "array([2., 3., 4., 5., 6.])"
      ]
     },
     "execution_count": 19,
     "metadata": {},
     "output_type": "execute_result"
    }
   ],
   "source": [
    "#a useful way of creating a sequence with given length\n",
    "np.linspace(2,6,5)"
   ]
  },
  {
   "cell_type": "code",
   "execution_count": 20,
   "id": "db6cb30f",
   "metadata": {},
   "outputs": [
    {
     "data": {
      "text/plain": [
       "array([[ 2.        ,  2.42105263,  2.84210526,  3.26315789,  3.68421053],\n",
       "       [ 4.10526316,  4.52631579,  4.94736842,  5.36842105,  5.78947368],\n",
       "       [ 6.21052632,  6.63157895,  7.05263158,  7.47368421,  7.89473684],\n",
       "       [ 8.31578947,  8.73684211,  9.15789474,  9.57894737, 10.        ]])"
      ]
     },
     "execution_count": 20,
     "metadata": {},
     "output_type": "execute_result"
    }
   ],
   "source": [
    "#a useful way of creating a sequence with given length and with specified number of rows and columns\n",
    "np.linspace(2,10,20).reshape(4,5)"
   ]
  },
  {
   "cell_type": "code",
   "execution_count": 21,
   "id": "520d680e",
   "metadata": {},
   "outputs": [
    {
     "data": {
      "text/plain": [
       "(array([2.  , 2.75, 3.5 , 4.25, 5.  ]), 0.75)"
      ]
     },
     "execution_count": 21,
     "metadata": {},
     "output_type": "execute_result"
    }
   ],
   "source": [
    "#retstep finds the difference between the numbers\n",
    "np.linspace(2,5,5, retstep = True)"
   ]
  },
  {
   "cell_type": "code",
   "execution_count": 22,
   "id": "d048fd9a",
   "metadata": {},
   "outputs": [
    {
     "data": {
      "text/plain": [
       "(array([  0.        ,   2.02020202,   4.04040404,   6.06060606,\n",
       "          8.08080808,  10.1010101 ,  12.12121212,  14.14141414,\n",
       "         16.16161616,  18.18181818,  20.2020202 ,  22.22222222,\n",
       "         24.24242424,  26.26262626,  28.28282828,  30.3030303 ,\n",
       "         32.32323232,  34.34343434,  36.36363636,  38.38383838,\n",
       "         40.4040404 ,  42.42424242,  44.44444444,  46.46464646,\n",
       "         48.48484848,  50.50505051,  52.52525253,  54.54545455,\n",
       "         56.56565657,  58.58585859,  60.60606061,  62.62626263,\n",
       "         64.64646465,  66.66666667,  68.68686869,  70.70707071,\n",
       "         72.72727273,  74.74747475,  76.76767677,  78.78787879,\n",
       "         80.80808081,  82.82828283,  84.84848485,  86.86868687,\n",
       "         88.88888889,  90.90909091,  92.92929293,  94.94949495,\n",
       "         96.96969697,  98.98989899, 101.01010101, 103.03030303,\n",
       "        105.05050505, 107.07070707, 109.09090909, 111.11111111,\n",
       "        113.13131313, 115.15151515, 117.17171717, 119.19191919,\n",
       "        121.21212121, 123.23232323, 125.25252525, 127.27272727,\n",
       "        129.29292929, 131.31313131, 133.33333333, 135.35353535,\n",
       "        137.37373737, 139.39393939, 141.41414141, 143.43434343,\n",
       "        145.45454545, 147.47474747, 149.49494949, 151.51515152,\n",
       "        153.53535354, 155.55555556, 157.57575758, 159.5959596 ,\n",
       "        161.61616162, 163.63636364, 165.65656566, 167.67676768,\n",
       "        169.6969697 , 171.71717172, 173.73737374, 175.75757576,\n",
       "        177.77777778, 179.7979798 , 181.81818182, 183.83838384,\n",
       "        185.85858586, 187.87878788, 189.8989899 , 191.91919192,\n",
       "        193.93939394, 195.95959596, 197.97979798, 200.        ]),\n",
       " 2.0202020202020203)"
      ]
     },
     "execution_count": 22,
     "metadata": {},
     "output_type": "execute_result"
    }
   ],
   "source": [
    "np.linspace(0, 200, 100, retstep = True)"
   ]
  },
  {
   "cell_type": "code",
   "execution_count": 23,
   "id": "a69e3614",
   "metadata": {},
   "outputs": [
    {
     "data": {
      "text/plain": [
       "(array([2. , 2.4, 2.8, 3.2, 3.6]), 0.4)"
      ]
     },
     "execution_count": 23,
     "metadata": {},
     "output_type": "execute_result"
    }
   ],
   "source": [
    "#omits the final point in sequence as for np.arange\n",
    "np.linspace(2, 4, 5, endpoint = False, retstep = True)"
   ]
  },
  {
   "cell_type": "code",
   "execution_count": 24,
   "id": "d51cf8ca",
   "metadata": {},
   "outputs": [
    {
     "data": {
      "text/plain": [
       "array([[ 0.,  0.,  0.],\n",
       "       [ 0.,  3.,  6.],\n",
       "       [ 0.,  6., 12.],\n",
       "       [ 0.,  9., 18.]])"
      ]
     },
     "execution_count": 24,
     "metadata": {},
     "output_type": "execute_result"
    }
   ],
   "source": [
    "#initialize array from function\n",
    "def f(i, j):\n",
    "    return 3*i*j\n",
    "np.fromfunction(f,(4,3))"
   ]
  },
  {
   "cell_type": "code",
   "execution_count": 25,
   "id": "04f51ad2",
   "metadata": {},
   "outputs": [
    {
     "data": {
      "text/plain": [
       "array([[ 0,  0,  0],\n",
       "       [ 0,  3,  6],\n",
       "       [ 0,  6, 12],\n",
       "       [ 0,  9, 18]])"
      ]
     },
     "execution_count": 25,
     "metadata": {},
     "output_type": "execute_result"
    }
   ],
   "source": [
    "#initialize function directly using lambda\n",
    "np.fromfunction(lambda i,j: 3*i*j, (4,3), dtype=int)"
   ]
  },
  {
   "cell_type": "code",
   "execution_count": 26,
   "id": "cc1a3a0d",
   "metadata": {},
   "outputs": [
    {
     "data": {
      "text/plain": [
       "array([ 0,  0,  0,  0,  0,  5,  0,  0,  0,  0, 10,  0,  0,  0,  0, 15,  0,\n",
       "        0,  0,  0])"
      ]
     },
     "execution_count": 26,
     "metadata": {},
     "output_type": "execute_result"
    }
   ],
   "source": [
    "#creating a \"comb\" of values in array of length n for which every nth element is 1 but with zeros in all other places\n",
    "N, n = 20, 5\n",
    "def f(i):\n",
    "    return (i%n == 0)*i\n",
    "comb = np.fromfunction(f,(N,), dtype=int)\n",
    "comb"
   ]
  },
  {
   "cell_type": "code",
   "execution_count": 27,
   "id": "ff26d611",
   "metadata": {},
   "outputs": [
    {
     "data": {
      "text/plain": [
       "(4, 3)"
      ]
     },
     "execution_count": 27,
     "metadata": {},
     "output_type": "execute_result"
    }
   ],
   "source": [
    "#attributes for introspection\n",
    "a = np.array(((1, 0, 3), (1, 1, 1), (2, 0, 4), (4, 0, 2)))\n",
    "a.shape"
   ]
  },
  {
   "cell_type": "code",
   "execution_count": 28,
   "id": "e20a30fa",
   "metadata": {},
   "outputs": [
    {
     "data": {
      "text/plain": [
       "2"
      ]
     },
     "execution_count": 28,
     "metadata": {},
     "output_type": "execute_result"
    }
   ],
   "source": [
    "a.ndim #number of dimensions, ndim == len ofshape"
   ]
  },
  {
   "cell_type": "code",
   "execution_count": 29,
   "id": "09d4ef37",
   "metadata": {},
   "outputs": [
    {
     "data": {
      "text/plain": [
       "(3, 2, 2)"
      ]
     },
     "execution_count": 29,
     "metadata": {},
     "output_type": "execute_result"
    }
   ],
   "source": [
    "a = np.array([[[2,0], [3, 8]], [[3,6], [4,5]], [[7, 8], [1, 2]]])\n",
    "a.shape #depth*length*breadth"
   ]
  },
  {
   "cell_type": "code",
   "execution_count": 30,
   "id": "f04df22c",
   "metadata": {},
   "outputs": [
    {
     "data": {
      "text/plain": [
       "3"
      ]
     },
     "execution_count": 30,
     "metadata": {},
     "output_type": "execute_result"
    }
   ],
   "source": [
    "a.ndim"
   ]
  },
  {
   "cell_type": "code",
   "execution_count": 31,
   "id": "dd0b09e8",
   "metadata": {},
   "outputs": [
    {
     "data": {
      "text/plain": [
       "12"
      ]
     },
     "execution_count": 31,
     "metadata": {},
     "output_type": "execute_result"
    }
   ],
   "source": [
    "a.size #total number of elements"
   ]
  },
  {
   "cell_type": "code",
   "execution_count": 32,
   "id": "b928a653",
   "metadata": {},
   "outputs": [
    {
     "data": {
      "text/plain": [
       "dtype('int32')"
      ]
     },
     "execution_count": 32,
     "metadata": {},
     "output_type": "execute_result"
    }
   ],
   "source": [
    "a.dtype #data type"
   ]
  },
  {
   "cell_type": "code",
   "execution_count": 33,
   "id": "99658465",
   "metadata": {},
   "outputs": [
    {
     "data": {
      "text/plain": [
       "<memory at 0x000002AA906C14E0>"
      ]
     },
     "execution_count": 33,
     "metadata": {},
     "output_type": "execute_result"
    }
   ],
   "source": [
    "a.data #buffer in memory containing actual elements"
   ]
  },
  {
   "cell_type": "code",
   "execution_count": 34,
   "id": "98d542b7",
   "metadata": {},
   "outputs": [
    {
     "data": {
      "text/plain": [
       "4"
      ]
     },
     "execution_count": 34,
     "metadata": {},
     "output_type": "execute_result"
    }
   ],
   "source": [
    "a.itemsize #size in bytes of each element"
   ]
  },
  {
   "cell_type": "code",
   "execution_count": 35,
   "id": "c8066760",
   "metadata": {},
   "outputs": [
    {
     "data": {
      "text/plain": [
       "array([1., 2., 3., 4., 5.])"
      ]
     },
     "execution_count": 35,
     "metadata": {},
     "output_type": "execute_result"
    }
   ],
   "source": [
    "x = np.linspace(1, 5, 5)\n",
    "x"
   ]
  },
  {
   "cell_type": "code",
   "execution_count": 36,
   "id": "22d0df8a",
   "metadata": {},
   "outputs": [
    {
     "data": {
      "text/plain": [
       "array([  1.,   8.,  27.,  64., 125.])"
      ]
     },
     "execution_count": 36,
     "metadata": {},
     "output_type": "execute_result"
    }
   ],
   "source": [
    "x**3 #power 3"
   ]
  },
  {
   "cell_type": "code",
   "execution_count": 37,
   "id": "140ada4d",
   "metadata": {},
   "outputs": [
    {
     "data": {
      "text/plain": [
       "array([0., 1., 2., 3., 4.])"
      ]
     },
     "execution_count": 37,
     "metadata": {},
     "output_type": "execute_result"
    }
   ],
   "source": [
    "x - 1"
   ]
  },
  {
   "cell_type": "code",
   "execution_count": 38,
   "id": "99041138",
   "metadata": {},
   "outputs": [
    {
     "data": {
      "text/plain": [
       "array([0.        , 1.        , 1.41421356, 1.73205081, 2.        ])"
      ]
     },
     "execution_count": 38,
     "metadata": {},
     "output_type": "execute_result"
    }
   ],
   "source": [
    "np.sqrt(x - 1)"
   ]
  },
  {
   "cell_type": "code",
   "execution_count": 39,
   "id": "daf47926",
   "metadata": {},
   "outputs": [
    {
     "data": {
      "text/plain": [
       "array([1.        , 0.60653066, 0.36787944, 0.22313016, 0.13533528])"
      ]
     },
     "execution_count": 39,
     "metadata": {},
     "output_type": "execute_result"
    }
   ],
   "source": [
    "y = np.exp(-np.linspace(0, 2, 5))\n",
    "y"
   ]
  },
  {
   "cell_type": "code",
   "execution_count": 40,
   "id": "155bf032",
   "metadata": {},
   "outputs": [
    {
     "data": {
      "text/plain": [
       "array([ 0.        ,  0.98431873,  0.48771645, -0.59340065, -0.98842844])"
      ]
     },
     "execution_count": 40,
     "metadata": {},
     "output_type": "execute_result"
    }
   ],
   "source": [
    "np.sin(x-y)"
   ]
  },
  {
   "cell_type": "code",
   "execution_count": 41,
   "id": "0996e22e",
   "metadata": {},
   "outputs": [
    {
     "data": {
      "text/plain": [
       "array([[1, 2],\n",
       "       [2, 1]])"
      ]
     },
     "execution_count": 41,
     "metadata": {},
     "output_type": "execute_result"
    }
   ],
   "source": [
    "#matrix multiplication in numpy\n",
    "a = np.array(((1, 2), (2, 1)))\n",
    "b = np.array(((1, 1), (1, 1)))\n",
    "a*b\n"
   ]
  },
  {
   "cell_type": "code",
   "execution_count": 42,
   "id": "7f21b34e",
   "metadata": {},
   "outputs": [
    {
     "data": {
      "text/plain": [
       "array([[1, 2],\n",
       "       [2, 1]])"
      ]
     },
     "execution_count": 42,
     "metadata": {},
     "output_type": "execute_result"
    }
   ],
   "source": [
    "b = a.T\n",
    "b"
   ]
  },
  {
   "cell_type": "code",
   "execution_count": 43,
   "id": "f3ef6ebc",
   "metadata": {},
   "outputs": [
    {
     "data": {
      "text/plain": [
       "array([[5, 4],\n",
       "       [4, 5]])"
      ]
     },
     "execution_count": 43,
     "metadata": {},
     "output_type": "execute_result"
    }
   ],
   "source": [
    "np.matmul(a,b)"
   ]
  },
  {
   "cell_type": "code",
   "execution_count": 44,
   "id": "fd1825a9",
   "metadata": {},
   "outputs": [
    {
     "data": {
      "text/plain": [
       "array([[5, 4],\n",
       "       [4, 5]])"
      ]
     },
     "execution_count": 44,
     "metadata": {},
     "output_type": "execute_result"
    }
   ],
   "source": [
    "a.dot(b) #dot product"
   ]
  },
  {
   "cell_type": "code",
   "execution_count": 45,
   "id": "fc42364d",
   "metadata": {},
   "outputs": [
    {
     "data": {
      "text/plain": [
       "array([[5, 4],\n",
       "       [4, 5]])"
      ]
     },
     "execution_count": 45,
     "metadata": {},
     "output_type": "execute_result"
    }
   ],
   "source": [
    "np.dot(a, b)"
   ]
  },
  {
   "cell_type": "code",
   "execution_count": 46,
   "id": "ae3508ca",
   "metadata": {},
   "outputs": [
    {
     "data": {
      "text/plain": [
       "array([[5, 4],\n",
       "       [4, 5]])"
      ]
     },
     "execution_count": 46,
     "metadata": {},
     "output_type": "execute_result"
    }
   ],
   "source": [
    "a@b"
   ]
  },
  {
   "cell_type": "code",
   "execution_count": 47,
   "id": "459a3537",
   "metadata": {},
   "outputs": [
    {
     "data": {
      "text/plain": [
       "array([3, 2, 5])"
      ]
     },
     "execution_count": 47,
     "metadata": {},
     "output_type": "execute_result"
    }
   ],
   "source": [
    "a = np.array([[1, 2, 3], [1, 0, 1]])\n",
    "b = np.array([1, 2])\n",
    "np.dot(b, a)"
   ]
  },
  {
   "cell_type": "code",
   "execution_count": 48,
   "id": "271f5643",
   "metadata": {},
   "outputs": [
    {
     "data": {
      "text/plain": [
       "array([[False,  True,  True],\n",
       "       [False, False, False]])"
      ]
     },
     "execution_count": 48,
     "metadata": {},
     "output_type": "execute_result"
    }
   ],
   "source": [
    "a>1"
   ]
  },
  {
   "cell_type": "code",
   "execution_count": 49,
   "id": "902491f5",
   "metadata": {},
   "outputs": [
    {
     "data": {
      "text/plain": [
       "array([[ True,  True,  True],\n",
       "       [ True,  True,  True]])"
      ]
     },
     "execution_count": 49,
     "metadata": {},
     "output_type": "execute_result"
    }
   ],
   "source": [
    "a<10"
   ]
  },
  {
   "cell_type": "code",
   "execution_count": 50,
   "id": "0d7d70e3",
   "metadata": {},
   "outputs": [],
   "source": [
    "#np.nan - not a number e.g. 0/0\n",
    "#np.inf - represents infinity"
   ]
  },
  {
   "cell_type": "code",
   "execution_count": 51,
   "id": "562f7fb3",
   "metadata": {},
   "outputs": [
    {
     "data": {
      "text/plain": [
       "array([[0, 0, 0, 0, 0],\n",
       "       [0, 0, 0, 0, 0],\n",
       "       [0, 0, 0, 0, 0],\n",
       "       [0, 0, 0, 0, 0],\n",
       "       [0, 0, 0, 0, 0]])"
      ]
     },
     "execution_count": 51,
     "metadata": {},
     "output_type": "execute_result"
    }
   ],
   "source": [
    "N = 5\n",
    "msquare = np.zeros((N, N), dtype = int)\n",
    "msquare"
   ]
  },
  {
   "cell_type": "code",
   "execution_count": 52,
   "id": "f7454646",
   "metadata": {},
   "outputs": [
    {
     "data": {
      "text/plain": [
       "array([[17, 24,  1,  8, 15],\n",
       "       [23,  5,  7, 14, 16],\n",
       "       [ 4,  6, 13, 20, 22],\n",
       "       [10, 12, 19, 21,  3],\n",
       "       [11, 18, 25,  2,  9]])"
      ]
     },
     "execution_count": 52,
     "metadata": {},
     "output_type": "execute_result"
    }
   ],
   "source": [
    "#magic square - sum of all rows or columns or diagonal from a specific element is the same\n",
    "N = 5\n",
    "msquare = np.zeros((N, N), dtype = int)\n",
    "msquare\n",
    "n = 1\n",
    "i, j = 0, N//2\n",
    "\n",
    "while n <= N**2:\n",
    "    msquare[i, j] = n\n",
    "    n += 1\n",
    "    newi, newj = (i-1)%N, (j+1)%N\n",
    "    if msquare[newi, newj]:\n",
    "        i += 1\n",
    "    else:\n",
    "        i, j = newi, newj\n",
    "\n",
    "msquare\n",
    "        \n"
   ]
  },
  {
   "cell_type": "code",
   "execution_count": 53,
   "id": "05ea270c",
   "metadata": {},
   "outputs": [
    {
     "data": {
      "text/plain": [
       "array([[[1, 2, 3],\n",
       "        [4, 5, 6],\n",
       "        [7, 8, 9]],\n",
       "\n",
       "       [[1, 2, 3],\n",
       "        [4, 5, 6],\n",
       "        [7, 8, 9]]])"
      ]
     },
     "execution_count": 53,
     "metadata": {},
     "output_type": "execute_result"
    }
   ],
   "source": [
    "m = np.array([[[1, 2, 3], [4, 5, 6], [7, 8, 9]], [[1, 2, 3], [4, 5, 6], [7, 8, 9]]])\n",
    "n = m.flatten() #create independent, flatten copy of m\n",
    "m"
   ]
  },
  {
   "cell_type": "code",
   "execution_count": 54,
   "id": "6bfa205a",
   "metadata": {},
   "outputs": [
    {
     "data": {
      "text/plain": [
       "array([1, 2, 3, 4, 5, 6, 7, 8, 9, 1, 2, 3, 4, 5, 6, 7, 8, 9])"
      ]
     },
     "execution_count": 54,
     "metadata": {},
     "output_type": "execute_result"
    }
   ],
   "source": [
    "n"
   ]
  },
  {
   "cell_type": "code",
   "execution_count": 55,
   "id": "f1ddba7e",
   "metadata": {},
   "outputs": [
    {
     "data": {
      "text/plain": [
       "array([1, 2, 3, 0, 5, 6, 7, 8, 9, 1, 2, 3, 4, 5, 6, 7, 8, 9])"
      ]
     },
     "execution_count": 55,
     "metadata": {},
     "output_type": "execute_result"
    }
   ],
   "source": [
    "n[3] = 0\n",
    "n"
   ]
  },
  {
   "cell_type": "code",
   "execution_count": 56,
   "id": "3961832d",
   "metadata": {},
   "outputs": [
    {
     "data": {
      "text/plain": [
       "array([[[1, 2, 3],\n",
       "        [4, 5, 6],\n",
       "        [7, 8, 9]],\n",
       "\n",
       "       [[1, 2, 3],\n",
       "        [4, 5, 6],\n",
       "        [7, 8, 9]]])"
      ]
     },
     "execution_count": 56,
     "metadata": {},
     "output_type": "execute_result"
    }
   ],
   "source": [
    "m"
   ]
  },
  {
   "cell_type": "code",
   "execution_count": 57,
   "id": "008ee307",
   "metadata": {},
   "outputs": [
    {
     "data": {
      "text/plain": [
       "array([1, 2, 3, 0, 5, 6, 7, 8, 9, 1, 2, 3, 4, 5, 6, 7, 8, 9])"
      ]
     },
     "execution_count": 57,
     "metadata": {},
     "output_type": "execute_result"
    }
   ],
   "source": [
    "n"
   ]
  },
  {
   "cell_type": "code",
   "execution_count": 58,
   "id": "d633bef6",
   "metadata": {},
   "outputs": [
    {
     "data": {
      "text/plain": [
       "array([[[1, 2, 3],\n",
       "        [4, 5, 6],\n",
       "        [7, 8, 9]],\n",
       "\n",
       "       [[1, 2, 3],\n",
       "        [4, 5, 6],\n",
       "        [7, 8, 9]]])"
      ]
     },
     "execution_count": 58,
     "metadata": {},
     "output_type": "execute_result"
    }
   ],
   "source": [
    "m"
   ]
  },
  {
   "cell_type": "code",
   "execution_count": 59,
   "id": "b10a9149",
   "metadata": {},
   "outputs": [
    {
     "data": {
      "text/plain": [
       "array([[1, 2, 3],\n",
       "       [4, 5, 6],\n",
       "       [7, 8, 9]])"
      ]
     },
     "execution_count": 59,
     "metadata": {},
     "output_type": "execute_result"
    }
   ],
   "source": [
    "a = np.array([[1, 2, 3], [4, 5, 6], [7, 8, 9]])\n",
    "a"
   ]
  },
  {
   "cell_type": "code",
   "execution_count": 60,
   "id": "909ca98a",
   "metadata": {},
   "outputs": [
    {
     "data": {
      "text/plain": [
       "array([1, 2, 3, 4, 5, 6, 7, 8, 9])"
      ]
     },
     "execution_count": 60,
     "metadata": {},
     "output_type": "execute_result"
    }
   ],
   "source": [
    "c= a.ravel()\n",
    "c"
   ]
  },
  {
   "cell_type": "code",
   "execution_count": 61,
   "id": "4c4545e9",
   "metadata": {},
   "outputs": [
    {
     "data": {
      "text/plain": [
       "array([1, 2, 3, 4, 5, 6, 7, 8, 9, 1, 2, 3, 4, 5, 6, 7, 8, 9])"
      ]
     },
     "execution_count": 61,
     "metadata": {},
     "output_type": "execute_result"
    }
   ],
   "source": [
    "o = m.ravel() #matrix into a single line\n",
    "o"
   ]
  },
  {
   "cell_type": "code",
   "execution_count": 62,
   "id": "9182c37e",
   "metadata": {},
   "outputs": [
    {
     "data": {
      "text/plain": [
       "array([1, 2, 3, 0, 5, 6, 7, 8, 9, 1, 2, 3, 4, 5, 6, 7, 8, 9])"
      ]
     },
     "execution_count": 62,
     "metadata": {},
     "output_type": "execute_result"
    }
   ],
   "source": [
    "o[3] = 0\n",
    "o"
   ]
  },
  {
   "cell_type": "code",
   "execution_count": 63,
   "id": "083ade14",
   "metadata": {},
   "outputs": [
    {
     "data": {
      "text/plain": [
       "array([[[1, 2, 3],\n",
       "        [0, 5, 6],\n",
       "        [7, 8, 9]],\n",
       "\n",
       "       [[1, 2, 3],\n",
       "        [4, 5, 6],\n",
       "        [7, 8, 9]]])"
      ]
     },
     "execution_count": 63,
     "metadata": {},
     "output_type": "execute_result"
    }
   ],
   "source": [
    "m"
   ]
  },
  {
   "cell_type": "code",
   "execution_count": 64,
   "id": "e9982d2c",
   "metadata": {},
   "outputs": [
    {
     "data": {
      "text/plain": [
       "array([1., 2., 3., 4., 5., 6., 7., 8.])"
      ]
     },
     "execution_count": 64,
     "metadata": {},
     "output_type": "execute_result"
    }
   ],
   "source": [
    "e = np.linspace(1, 8, 8)\n",
    "e"
   ]
  },
  {
   "cell_type": "code",
   "execution_count": 65,
   "id": "9e2692b2",
   "metadata": {},
   "outputs": [
    {
     "data": {
      "text/plain": [
       "array([[1., 2., 3., 4.],\n",
       "       [5., 6., 7., 8.]])"
      ]
     },
     "execution_count": 65,
     "metadata": {},
     "output_type": "execute_result"
    }
   ],
   "source": [
    "e.resize(2, 4)\n",
    "e"
   ]
  },
  {
   "cell_type": "code",
   "execution_count": 66,
   "id": "83ad06b2",
   "metadata": {},
   "outputs": [
    {
     "data": {
      "text/plain": [
       "array([[1., 2.],\n",
       "       [3., 4.],\n",
       "       [5., 6.],\n",
       "       [7., 8.]])"
      ]
     },
     "execution_count": 66,
     "metadata": {},
     "output_type": "execute_result"
    }
   ],
   "source": [
    "f = e.reshape(4, 2)\n",
    "f"
   ]
  },
  {
   "cell_type": "code",
   "execution_count": 67,
   "id": "051e4340",
   "metadata": {},
   "outputs": [
    {
     "data": {
      "text/plain": [
       "array([[-99.,   2.],\n",
       "       [  3.,   4.],\n",
       "       [  5.,   6.],\n",
       "       [  7.,   8.]])"
      ]
     },
     "execution_count": 67,
     "metadata": {},
     "output_type": "execute_result"
    }
   ],
   "source": [
    "f[0, 0] = -99\n",
    "f"
   ]
  },
  {
   "cell_type": "code",
   "execution_count": 68,
   "id": "b06eef76",
   "metadata": {},
   "outputs": [
    {
     "data": {
      "text/plain": [
       "array([[-99.,   2.,   3.,   4.],\n",
       "       [  5.,   6.,   7.,   8.]])"
      ]
     },
     "execution_count": 68,
     "metadata": {},
     "output_type": "execute_result"
    }
   ],
   "source": [
    "e"
   ]
  },
  {
   "cell_type": "code",
   "execution_count": 69,
   "id": "43e1c96e",
   "metadata": {},
   "outputs": [
    {
     "data": {
      "text/plain": [
       "array([ 1.,  2.,  3.,  4.,  5.,  6.,  7.,  8.,  9., 10., 11., 12., 13.,\n",
       "       14., 15., 16.])"
      ]
     },
     "execution_count": 69,
     "metadata": {},
     "output_type": "execute_result"
    }
   ],
   "source": [
    "#transposing arrays\n",
    "import numpy as np\n",
    "a = np.linspace(1, 16, 16)\n",
    "a"
   ]
  },
  {
   "cell_type": "code",
   "execution_count": 70,
   "id": "30f3166a",
   "metadata": {},
   "outputs": [
    {
     "data": {
      "text/plain": [
       "array([[[ 1.,  2.,  3.,  4.],\n",
       "        [ 5.,  6.,  7.,  8.]],\n",
       "\n",
       "       [[ 9., 10., 11., 12.],\n",
       "        [13., 14., 15., 16.]]])"
      ]
     },
     "execution_count": 70,
     "metadata": {},
     "output_type": "execute_result"
    }
   ],
   "source": [
    "a = a.reshape(2, 2, 4)\n",
    "a"
   ]
  },
  {
   "cell_type": "code",
   "execution_count": 71,
   "id": "a9f7e041",
   "metadata": {},
   "outputs": [
    {
     "data": {
      "text/plain": [
       "array([[[ 1.,  9.],\n",
       "        [ 5., 13.]],\n",
       "\n",
       "       [[ 2., 10.],\n",
       "        [ 6., 14.]],\n",
       "\n",
       "       [[ 3., 11.],\n",
       "        [ 7., 15.]],\n",
       "\n",
       "       [[ 4., 12.],\n",
       "        [ 8., 16.]]])"
      ]
     },
     "execution_count": 71,
     "metadata": {},
     "output_type": "execute_result"
    }
   ],
   "source": [
    "a.T"
   ]
  },
  {
   "cell_type": "code",
   "execution_count": 72,
   "id": "08dd0ed2",
   "metadata": {},
   "outputs": [
    {
     "data": {
      "text/plain": [
       "array([[[ 1.,  9.],\n",
       "        [ 5., 13.]],\n",
       "\n",
       "       [[ 2., 10.],\n",
       "        [ 6., 14.]],\n",
       "\n",
       "       [[ 3., 11.],\n",
       "        [ 7., 15.]],\n",
       "\n",
       "       [[ 4., 12.],\n",
       "        [ 8., 16.]]])"
      ]
     },
     "execution_count": 72,
     "metadata": {},
     "output_type": "execute_result"
    }
   ],
   "source": [
    "a.transpose()"
   ]
  },
  {
   "cell_type": "code",
   "execution_count": 73,
   "id": "38606532",
   "metadata": {},
   "outputs": [
    {
     "data": {
      "text/plain": [
       "(4, 2, 2)"
      ]
     },
     "execution_count": 73,
     "metadata": {},
     "output_type": "execute_result"
    }
   ],
   "source": [
    "a.transpose().shape"
   ]
  },
  {
   "cell_type": "code",
   "execution_count": 74,
   "id": "20bf9a15",
   "metadata": {},
   "outputs": [
    {
     "data": {
      "text/plain": [
       "(4, 2, 2)"
      ]
     },
     "execution_count": 74,
     "metadata": {},
     "output_type": "execute_result"
    }
   ],
   "source": [
    "a.T.shape"
   ]
  },
  {
   "cell_type": "code",
   "execution_count": 75,
   "id": "755233b8",
   "metadata": {},
   "outputs": [
    {
     "data": {
      "text/plain": [
       "array([100, 101, 102, 103])"
      ]
     },
     "execution_count": 75,
     "metadata": {},
     "output_type": "execute_result"
    }
   ],
   "source": [
    "b = np.array([100, 101, 102, 103])\n",
    "b"
   ]
  },
  {
   "cell_type": "code",
   "execution_count": 76,
   "id": "be2eeecf",
   "metadata": {},
   "outputs": [
    {
     "data": {
      "text/plain": [
       "array([100, 101, 102, 103])"
      ]
     },
     "execution_count": 76,
     "metadata": {},
     "output_type": "execute_result"
    }
   ],
   "source": [
    "b.T"
   ]
  },
  {
   "cell_type": "markdown",
   "id": "b1969457",
   "metadata": {},
   "source": [
    "# Merging and Splitting arrays"
   ]
  },
  {
   "cell_type": "code",
   "execution_count": 77,
   "id": "1501e99c",
   "metadata": {},
   "outputs": [],
   "source": [
    "#np.vstack - stack arrays vertically(in sequential rows)\n",
    "#np.hstack - stack arrays horizontally(in sequential columns)\n",
    "#np.dstack - stack arrays depthwise(along third axis)\n",
    "#vice-versa happens with \"split\""
   ]
  },
  {
   "cell_type": "code",
   "execution_count": 78,
   "id": "dde7ed9c",
   "metadata": {},
   "outputs": [
    {
     "data": {
      "text/plain": [
       "array([[[0, 1, 2],\n",
       "        [0, 1, 2],\n",
       "        [0, 1, 2],\n",
       "        [0, 1, 2]]])"
      ]
     },
     "execution_count": 78,
     "metadata": {},
     "output_type": "execute_result"
    }
   ],
   "source": [
    "a = np.array([0, 0, 0, 0])\n",
    "b = np.array([1, 1, 1, 1])\n",
    "c = np.array([2, 2, 2, 2])\n",
    "d = np.dstack((a, b, c))\n",
    "d"
   ]
  },
  {
   "cell_type": "code",
   "execution_count": 79,
   "id": "5f8328a3",
   "metadata": {},
   "outputs": [
    {
     "data": {
      "text/plain": [
       "3"
      ]
     },
     "execution_count": 79,
     "metadata": {},
     "output_type": "execute_result"
    }
   ],
   "source": [
    "d.ndim"
   ]
  },
  {
   "cell_type": "code",
   "execution_count": 80,
   "id": "a51f30d0",
   "metadata": {},
   "outputs": [
    {
     "data": {
      "text/plain": [
       "array([[0, 0, 0, 0],\n",
       "       [1, 1, 1, 1],\n",
       "       [2, 2, 2, 2]])"
      ]
     },
     "execution_count": 80,
     "metadata": {},
     "output_type": "execute_result"
    }
   ],
   "source": [
    "d1 = np.vstack((a, b, c))\n",
    "d1"
   ]
  },
  {
   "cell_type": "code",
   "execution_count": 81,
   "id": "289f3ff5",
   "metadata": {},
   "outputs": [
    {
     "data": {
      "text/plain": [
       "(3, 4)"
      ]
     },
     "execution_count": 81,
     "metadata": {},
     "output_type": "execute_result"
    }
   ],
   "source": [
    "d1.shape"
   ]
  },
  {
   "cell_type": "code",
   "execution_count": 82,
   "id": "7f77c6d4",
   "metadata": {},
   "outputs": [
    {
     "data": {
      "text/plain": [
       "array([0, 0, 0, 0, 1, 1, 1, 1, 2, 2, 2, 2])"
      ]
     },
     "execution_count": 82,
     "metadata": {},
     "output_type": "execute_result"
    }
   ],
   "source": [
    "d2 = np.hstack((a, b, c))\n",
    "d2"
   ]
  },
  {
   "cell_type": "code",
   "execution_count": 83,
   "id": "317c44e8",
   "metadata": {},
   "outputs": [
    {
     "data": {
      "text/plain": [
       "(12,)"
      ]
     },
     "execution_count": 83,
     "metadata": {},
     "output_type": "execute_result"
    }
   ],
   "source": [
    "d2.shape"
   ]
  },
  {
   "cell_type": "code",
   "execution_count": 84,
   "id": "7400fc09",
   "metadata": {},
   "outputs": [
    {
     "data": {
      "text/plain": [
       "array([0, 1, 2, 3, 4])"
      ]
     },
     "execution_count": 84,
     "metadata": {},
     "output_type": "execute_result"
    }
   ],
   "source": [
    "a = np.arange(5)\n",
    "a"
   ]
  },
  {
   "cell_type": "code",
   "execution_count": 85,
   "id": "ff7aebce",
   "metadata": {},
   "outputs": [
    {
     "data": {
      "text/plain": [
       "array([[[1, 2, 3],\n",
       "        [2, 3, 4]],\n",
       "\n",
       "       [[4, 5, 6],\n",
       "        [7, 8, 9]]])"
      ]
     },
     "execution_count": 85,
     "metadata": {},
     "output_type": "execute_result"
    }
   ],
   "source": [
    "m = np.array([[[1, 2, 3], [2, 3, 4]], [[4, 5,6], [7, 8, 9]]])\n",
    "m"
   ]
  },
  {
   "cell_type": "code",
   "execution_count": 86,
   "id": "7b000682",
   "metadata": {},
   "outputs": [
    {
     "data": {
      "text/plain": [
       "[array([[[1, 2, 3]],\n",
       " \n",
       "        [[4, 5, 6]]]),\n",
       " array([[[2, 3, 4]],\n",
       " \n",
       "        [[7, 8, 9]]])]"
      ]
     },
     "execution_count": 86,
     "metadata": {},
     "output_type": "execute_result"
    }
   ],
   "source": [
    "n = np.hsplit(m, 2)\n",
    "n"
   ]
  },
  {
   "cell_type": "markdown",
   "id": "1d7b2dfa",
   "metadata": {},
   "source": [
    "# Indexing and Slicing"
   ]
  },
  {
   "cell_type": "code",
   "execution_count": 87,
   "id": "a57f5b27",
   "metadata": {},
   "outputs": [
    {
     "data": {
      "text/plain": [
       "array([10. , 11.2, 12.4, 13.6, 14.8, 16. ])"
      ]
     },
     "execution_count": 87,
     "metadata": {},
     "output_type": "execute_result"
    }
   ],
   "source": [
    "a = np.linspace(10, 16, 6)\n",
    "a"
   ]
  },
  {
   "cell_type": "code",
   "execution_count": 88,
   "id": "4b17e6de",
   "metadata": {},
   "outputs": [
    {
     "data": {
      "text/plain": [
       "array([11.2, 13.6])"
      ]
     },
     "execution_count": 88,
     "metadata": {},
     "output_type": "execute_result"
    }
   ],
   "source": [
    "a[1:5:2]"
   ]
  },
  {
   "cell_type": "code",
   "execution_count": 89,
   "id": "031a6e75",
   "metadata": {},
   "outputs": [
    {
     "data": {
      "text/plain": [
       "array([12.4, 14.8])"
      ]
     },
     "execution_count": 89,
     "metadata": {},
     "output_type": "execute_result"
    }
   ],
   "source": [
    "a[2::2]"
   ]
  },
  {
   "cell_type": "code",
   "execution_count": 90,
   "id": "80cae8a6",
   "metadata": {},
   "outputs": [
    {
     "data": {
      "text/plain": [
       "array([12.4, 10. ])"
      ]
     },
     "execution_count": 90,
     "metadata": {},
     "output_type": "execute_result"
    }
   ],
   "source": [
    "a[2::-2]"
   ]
  },
  {
   "cell_type": "code",
   "execution_count": 91,
   "id": "3509a816",
   "metadata": {},
   "outputs": [
    {
     "data": {
      "text/plain": [
       "array([[ 1.,  2.,  3.],\n",
       "       [ 4.,  5.,  6.],\n",
       "       [ 7.,  8.,  9.],\n",
       "       [10., 11., 12.]])"
      ]
     },
     "execution_count": 91,
     "metadata": {},
     "output_type": "execute_result"
    }
   ],
   "source": [
    "a = np.linspace(1, 12, 12).reshape(4,3)\n",
    "a"
   ]
  },
  {
   "cell_type": "code",
   "execution_count": 92,
   "id": "75c05e57",
   "metadata": {},
   "outputs": [
    {
     "data": {
      "text/plain": [
       "array([[ 5.],\n",
       "       [ 8.],\n",
       "       [11.]])"
      ]
     },
     "execution_count": 92,
     "metadata": {},
     "output_type": "execute_result"
    }
   ],
   "source": [
    "a[1:,1:2] #middle rows, second column onwards"
   ]
  },
  {
   "cell_type": "code",
   "execution_count": 93,
   "id": "aa0d9dda",
   "metadata": {},
   "outputs": [
    {
     "data": {
      "text/plain": [
       "array(11.)"
      ]
     },
     "execution_count": 93,
     "metadata": {},
     "output_type": "execute_result"
    }
   ],
   "source": [
    "a[3, 1, ...] "
   ]
  },
  {
   "cell_type": "code",
   "execution_count": 94,
   "id": "4d2e870d",
   "metadata": {},
   "outputs": [
    {
     "data": {
      "text/plain": [
       "array([[ 1.,  0.,  3.],\n",
       "       [ 4.,  0.,  6.],\n",
       "       [ 7.,  0.,  9.],\n",
       "       [10.,  0., 12.]])"
      ]
     },
     "execution_count": 94,
     "metadata": {},
     "output_type": "execute_result"
    }
   ],
   "source": [
    "a[:,1] = 0 #set all elements in second column to zero\n",
    "a"
   ]
  },
  {
   "cell_type": "code",
   "execution_count": 95,
   "id": "cead53de",
   "metadata": {},
   "outputs": [],
   "source": [
    "#advanced indexing"
   ]
  },
  {
   "cell_type": "code",
   "execution_count": 96,
   "id": "5618d190",
   "metadata": {},
   "outputs": [
    {
     "data": {
      "text/plain": [
       "array([ 1.,  2.,  3.,  4.,  5.,  6.,  7.,  8.,  9., 10.])"
      ]
     },
     "execution_count": 96,
     "metadata": {},
     "output_type": "execute_result"
    }
   ],
   "source": [
    "import numpy as np\n",
    "a = np.linspace(1,10,10)\n",
    "a"
   ]
  },
  {
   "cell_type": "code",
   "execution_count": 97,
   "id": "4aa083b5",
   "metadata": {},
   "outputs": [
    {
     "data": {
      "text/plain": [
       "array([2., 5., 6.])"
      ]
     },
     "execution_count": 97,
     "metadata": {},
     "output_type": "execute_result"
    }
   ],
   "source": [
    "ia = [1,4,5]\n",
    "a[ia]"
   ]
  },
  {
   "cell_type": "code",
   "execution_count": 98,
   "id": "a0cb3989",
   "metadata": {},
   "outputs": [
    {
     "data": {
      "text/plain": [
       "array([[ 6.,  6.],\n",
       "       [10.,  2.],\n",
       "       [ 1.,  3.]])"
      ]
     },
     "execution_count": 98,
     "metadata": {},
     "output_type": "execute_result"
    }
   ],
   "source": [
    "ia = np.array(((5,5), (9,1), (0,2)))\n",
    "a[ia]  #an array to be formed from specified indexes"
   ]
  },
  {
   "cell_type": "code",
   "execution_count": 99,
   "id": "86dc7d76",
   "metadata": {},
   "outputs": [
    {
     "data": {
      "text/plain": [
       "array([1. , 1.8, 2.6, 3.4, 4.2, 5. ])"
      ]
     },
     "execution_count": 99,
     "metadata": {},
     "output_type": "execute_result"
    }
   ],
   "source": [
    "a = np.linspace(1, 5, 6)\n",
    "a"
   ]
  },
  {
   "cell_type": "code",
   "execution_count": 100,
   "id": "ed8535a7",
   "metadata": {},
   "outputs": [
    {
     "data": {
      "text/plain": [
       "array([[1. , 1.8, 2.6],\n",
       "       [3.4, 4.2, 5. ]])"
      ]
     },
     "execution_count": 100,
     "metadata": {},
     "output_type": "execute_result"
    }
   ],
   "source": [
    "a.reshape(2,3)"
   ]
  },
  {
   "cell_type": "code",
   "execution_count": 101,
   "id": "11ffe546",
   "metadata": {
    "scrolled": true
   },
   "outputs": [
    {
     "ename": "IndexError",
     "evalue": "too many indices for array: array is 1-dimensional, but 2 were indexed",
     "output_type": "error",
     "traceback": [
      "\u001b[1;31m---------------------------------------------------------------------------\u001b[0m",
      "\u001b[1;31mIndexError\u001b[0m                                Traceback (most recent call last)",
      "Cell \u001b[1;32mIn[101], line 3\u001b[0m\n\u001b[0;32m      1\u001b[0m ia \u001b[38;5;241m=\u001b[39m np\u001b[38;5;241m.\u001b[39marray(((\u001b[38;5;241m1\u001b[39m,\u001b[38;5;241m1\u001b[39m), (\u001b[38;5;241m1\u001b[39m,\u001b[38;5;241m0\u001b[39m)))\n\u001b[0;32m      2\u001b[0m ja \u001b[38;5;241m=\u001b[39m np\u001b[38;5;241m.\u001b[39marray(((\u001b[38;5;241m1\u001b[39m,\u001b[38;5;241m2\u001b[39m), (\u001b[38;5;241m2\u001b[39m,\u001b[38;5;241m1\u001b[39m)))\n\u001b[1;32m----> 3\u001b[0m \u001b[43ma\u001b[49m\u001b[43m[\u001b[49m\u001b[43mia\u001b[49m\u001b[43m,\u001b[49m\u001b[43mja\u001b[49m\u001b[43m]\u001b[49m\n",
      "\u001b[1;31mIndexError\u001b[0m: too many indices for array: array is 1-dimensional, but 2 were indexed"
     ]
    }
   ],
   "source": [
    "ia = np.array(((1,1), (1,0)))\n",
    "ja = np.array(((1,2), (2,1)))\n",
    "a[ia,ja]"
   ]
  },
  {
   "cell_type": "code",
   "execution_count": null,
   "id": "118f27a6",
   "metadata": {},
   "outputs": [],
   "source": [
    "a=np.linspace(1,6,6).reshape(2,3)\n",
    "a"
   ]
  },
  {
   "cell_type": "code",
   "execution_count": null,
   "id": "be316c86",
   "metadata": {},
   "outputs": [],
   "source": [
    "a.shape"
   ]
  },
  {
   "cell_type": "code",
   "execution_count": null,
   "id": "9b40d251",
   "metadata": {},
   "outputs": [],
   "source": [
    "b=a[::, np.newaxis]\n",
    "b  #a new axis is added"
   ]
  },
  {
   "cell_type": "code",
   "execution_count": null,
   "id": "70fd1ed8",
   "metadata": {},
   "outputs": [],
   "source": [
    "b.shape"
   ]
  },
  {
   "cell_type": "markdown",
   "id": "b3b26ec5",
   "metadata": {},
   "source": [
    "# Meshes"
   ]
  },
  {
   "cell_type": "code",
   "execution_count": null,
   "id": "1c975e49",
   "metadata": {},
   "outputs": [],
   "source": [
    "np.linspace(0,5,6)\n",
    "np.linspace(0,3,4)\n",
    "X,Y = np.meshgrid(x,y)\n",
    "X"
   ]
  },
  {
   "cell_type": "code",
   "execution_count": null,
   "id": "dab68feb",
   "metadata": {},
   "outputs": [],
   "source": [
    "Y"
   ]
  },
  {
   "cell_type": "code",
   "execution_count": null,
   "id": "a4347744",
   "metadata": {},
   "outputs": [],
   "source": [
    "X,Y = np.meshgrid(x,y, sparse = True)\n",
    "X, Y"
   ]
  },
  {
   "cell_type": "code",
   "execution_count": null,
   "id": "76118bf0",
   "metadata": {},
   "outputs": [],
   "source": []
  }
 ],
 "metadata": {
  "kernelspec": {
   "display_name": "Python 3 (ipykernel)",
   "language": "python",
   "name": "python3"
  },
  "language_info": {
   "codemirror_mode": {
    "name": "ipython",
    "version": 3
   },
   "file_extension": ".py",
   "mimetype": "text/x-python",
   "name": "python",
   "nbconvert_exporter": "python",
   "pygments_lexer": "ipython3",
   "version": "3.10.9"
  }
 },
 "nbformat": 4,
 "nbformat_minor": 5
}
